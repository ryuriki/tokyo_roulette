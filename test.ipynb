{
 "cells": [
  {
   "cell_type": "code",
   "execution_count": 5,
   "metadata": {},
   "outputs": [
    {
     "data": {
      "text/plain": [
       "[{'name': '千代田区', 'code': 1, 'kana': 'ちよだく', 'en': 'chiyoda'},\n",
       " {'name': '中央区', 'code': 2, 'kana': 'ちゅうおうく', 'en': 'chuou'},\n",
       " {'name': '港区', 'code': 3, 'kana': 'みなとく', 'en': 'minato'},\n",
       " {'name': '新宿区', 'code': 4, 'kana': 'しんじゅくく', 'en': 'sinjyuku'},\n",
       " {'name': '文京区', 'code': 5, 'kana': 'ぶんきょうく', 'en': 'bunkyou'},\n",
       " {'name': '台東区', 'code': 6, 'kana': 'だいとうく', 'en': 'daitou'},\n",
       " {'name': '墨田区', 'code': 7, 'kana': 'すみだく', 'en': 'sumida'},\n",
       " {'name': '江東区', 'code': 8, 'kana': 'こうとうく', 'en': 'koutou'},\n",
       " {'name': '品川区', 'code': 9, 'kana': 'しながわく', 'en': 'shinagawa'},\n",
       " {'name': '目黒区', 'code': 10, 'kana': 'めぐろく', 'en': 'meguro'},\n",
       " {'name': '大田区', 'code': 11, 'kana': 'おおたく', 'en': 'oota'},\n",
       " {'name': '世田谷区', 'code': 12, 'kana': 'せたがやく', 'en': 'setagaya'},\n",
       " {'name': '渋谷区', 'code': 13, 'kana': 'しぶやく', 'en': 'sibuya'},\n",
       " {'name': '中野区', 'code': 14, 'kana': 'なかのく', 'en': 'nakano'},\n",
       " {'name': '杉並区', 'code': 15, 'kana': 'すぎなみく', 'en': 'suginami'},\n",
       " {'name': '豊島区', 'code': 16, 'kana': 'としまく', 'en': 'toshima'},\n",
       " {'name': '北区', 'code': 17, 'kana': 'きたく', 'en': 'kita'},\n",
       " {'name': '荒川区', 'code': 18, 'kana': 'あらかわく', 'en': 'arakawa'},\n",
       " {'name': '板橋区', 'code': 19, 'kana': 'いたばしく', 'en': 'itabashi'},\n",
       " {'name': '練馬区', 'code': 20, 'kana': 'ねりまく', 'en': 'nerima'},\n",
       " {'name': '足立区', 'code': 21, 'kana': 'あだちく', 'en': 'adachi'},\n",
       " {'name': '葛飾区', 'code': 22, 'kana': 'かつしかく', 'en': 'katushika'},\n",
       " {'name': '江戸川区', 'code': 23, 'kana': 'えどがわく', 'en': 'edogawa'}]"
      ]
     },
     "execution_count": 5,
     "metadata": {},
     "output_type": "execute_result"
    }
   ],
   "source": [
    "import json\n",
    "\n",
    "def get_tokyo_areas():\n",
    "    with open(\"area.json\", encoding=\"utf-8\") as file:\n",
    "        data = json.load(file)\n",
    "\n",
    "    tokyo_areas = []\n",
    "    for prefecture in data:\n",
    "        tokyo_areas.append(prefecture[\"name\"])\n",
    "\n",
    "    return tokyo_areas\n",
    "get_tokyo_areas()"
   ]
  },
  {
   "cell_type": "code",
   "execution_count": 3,
   "metadata": {},
   "outputs": [
    {
     "ename": "FileNotFoundError",
     "evalue": "[Errno 2] No such file or directory: 'japan_areas.json'",
     "output_type": "error",
     "traceback": [
      "\u001b[0;31m---------------------------------------------------------------------------\u001b[0m",
      "\u001b[0;31mFileNotFoundError\u001b[0m                         Traceback (most recent call last)",
      "Cell \u001b[0;32mIn[3], line 1\u001b[0m\n\u001b[0;32m----> 1\u001b[0m tokyo_areas \u001b[39m=\u001b[39m get_tokyo_areas()\n\u001b[1;32m      2\u001b[0m \u001b[39mfor\u001b[39;00m area \u001b[39min\u001b[39;00m tokyo_areas:\n\u001b[1;32m      3\u001b[0m     \u001b[39mprint\u001b[39m(area)\n",
      "Cell \u001b[0;32mIn[2], line 4\u001b[0m, in \u001b[0;36mget_tokyo_areas\u001b[0;34m()\u001b[0m\n\u001b[1;32m      3\u001b[0m \u001b[39mdef\u001b[39;00m \u001b[39mget_tokyo_areas\u001b[39m():\n\u001b[0;32m----> 4\u001b[0m     \u001b[39mwith\u001b[39;00m \u001b[39mopen\u001b[39;49m(\u001b[39m\"\u001b[39;49m\u001b[39mjapan_areas.json\u001b[39;49m\u001b[39m\"\u001b[39;49m, encoding\u001b[39m=\u001b[39;49m\u001b[39m\"\u001b[39;49m\u001b[39mutf-8\u001b[39;49m\u001b[39m\"\u001b[39;49m) \u001b[39mas\u001b[39;00m file:\n\u001b[1;32m      5\u001b[0m         data \u001b[39m=\u001b[39m json\u001b[39m.\u001b[39mload(file)\n\u001b[1;32m      7\u001b[0m     tokyo_areas \u001b[39m=\u001b[39m []\n",
      "File \u001b[0;32m~/.pyenv/versions/3.10.4/lib/python3.10/site-packages/IPython/core/interactiveshell.py:282\u001b[0m, in \u001b[0;36m_modified_open\u001b[0;34m(file, *args, **kwargs)\u001b[0m\n\u001b[1;32m    275\u001b[0m \u001b[39mif\u001b[39;00m file \u001b[39min\u001b[39;00m {\u001b[39m0\u001b[39m, \u001b[39m1\u001b[39m, \u001b[39m2\u001b[39m}:\n\u001b[1;32m    276\u001b[0m     \u001b[39mraise\u001b[39;00m \u001b[39mValueError\u001b[39;00m(\n\u001b[1;32m    277\u001b[0m         \u001b[39mf\u001b[39m\u001b[39m\"\u001b[39m\u001b[39mIPython won\u001b[39m\u001b[39m'\u001b[39m\u001b[39mt let you open fd=\u001b[39m\u001b[39m{\u001b[39;00mfile\u001b[39m}\u001b[39;00m\u001b[39m by default \u001b[39m\u001b[39m\"\u001b[39m\n\u001b[1;32m    278\u001b[0m         \u001b[39m\"\u001b[39m\u001b[39mas it is likely to crash IPython. If you know what you are doing, \u001b[39m\u001b[39m\"\u001b[39m\n\u001b[1;32m    279\u001b[0m         \u001b[39m\"\u001b[39m\u001b[39myou can use builtins\u001b[39m\u001b[39m'\u001b[39m\u001b[39m open.\u001b[39m\u001b[39m\"\u001b[39m\n\u001b[1;32m    280\u001b[0m     )\n\u001b[0;32m--> 282\u001b[0m \u001b[39mreturn\u001b[39;00m io_open(file, \u001b[39m*\u001b[39;49margs, \u001b[39m*\u001b[39;49m\u001b[39m*\u001b[39;49mkwargs)\n",
      "\u001b[0;31mFileNotFoundError\u001b[0m: [Errno 2] No such file or directory: 'japan_areas.json'"
     ]
    }
   ],
   "source": [
    "\n",
    "tokyo_areas = get_tokyo_areas()\n",
    "for area in tokyo_areas:\n",
    "    print(area)\n"
   ]
  },
  {
   "cell_type": "code",
   "execution_count": null,
   "metadata": {},
   "outputs": [],
   "source": []
  }
 ],
 "metadata": {
  "kernelspec": {
   "display_name": "Python 3",
   "language": "python",
   "name": "python3"
  },
  "language_info": {
   "codemirror_mode": {
    "name": "ipython",
    "version": 3
   },
   "file_extension": ".py",
   "mimetype": "text/x-python",
   "name": "python",
   "nbconvert_exporter": "python",
   "pygments_lexer": "ipython3",
   "version": "3.10.4"
  },
  "orig_nbformat": 4
 },
 "nbformat": 4,
 "nbformat_minor": 2
}
